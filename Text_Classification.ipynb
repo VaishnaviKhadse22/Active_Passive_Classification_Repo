{
 "cells": [
  {
   "cell_type": "markdown",
   "id": "e80250c8-2811-4f19-adab-403917172a9a",
   "metadata": {},
   "source": [
    "# Text Classification for Active vs. Passive Voice Detection"
   ]
  },
  {
   "cell_type": "markdown",
   "id": "ba74ff61-1150-47d9-b896-a92c03982a19",
   "metadata": {},
   "source": [
    "### Objective: To develop a text classification model that can effectively detect whether a given sentence is in the active or passive voice, using a dataset of labelled sentences. This challenge aims to assess your skills in natural language processing, machine learning, and model explainability."
   ]
  },
  {
   "cell_type": "markdown",
   "id": "a8411fd5-a246-4b70-8102-b216111c154f",
   "metadata": {},
   "source": [
    "## 1. Importing Initial Libraries"
   ]
  },
  {
   "cell_type": "code",
   "execution_count": 1,
   "id": "a4a4bb2a-8dcb-46b9-835d-9861fcab2788",
   "metadata": {},
   "outputs": [],
   "source": [
    "import pandas as pd"
   ]
  },
  {
   "cell_type": "code",
   "execution_count": 2,
   "id": "df2f2024-bd46-49df-b7e0-3a90753671f6",
   "metadata": {},
   "outputs": [],
   "source": [
    "df=pd.read_excel(\"immverse_ai_eval_dataset.xlsx\")"
   ]
  },
  {
   "cell_type": "code",
   "execution_count": 3,
   "id": "bf7383ab-1512-4ef2-8300-ef7ee765eda7",
   "metadata": {},
   "outputs": [
    {
     "data": {
      "text/html": [
       "<div>\n",
       "<style scoped>\n",
       "    .dataframe tbody tr th:only-of-type {\n",
       "        vertical-align: middle;\n",
       "    }\n",
       "\n",
       "    .dataframe tbody tr th {\n",
       "        vertical-align: top;\n",
       "    }\n",
       "\n",
       "    .dataframe thead th {\n",
       "        text-align: right;\n",
       "    }\n",
       "</style>\n",
       "<table border=\"1\" class=\"dataframe\">\n",
       "  <thead>\n",
       "    <tr style=\"text-align: right;\">\n",
       "      <th></th>\n",
       "      <th>id</th>\n",
       "      <th>sentence</th>\n",
       "      <th>voice</th>\n",
       "    </tr>\n",
       "  </thead>\n",
       "  <tbody>\n",
       "    <tr>\n",
       "      <th>0</th>\n",
       "      <td>1</td>\n",
       "      <td>The chef prepares the meal.</td>\n",
       "      <td>Active</td>\n",
       "    </tr>\n",
       "    <tr>\n",
       "      <th>1</th>\n",
       "      <td>2</td>\n",
       "      <td>The teacher explains the lesson clearly.</td>\n",
       "      <td>Active</td>\n",
       "    </tr>\n",
       "    <tr>\n",
       "      <th>2</th>\n",
       "      <td>3</td>\n",
       "      <td>The gardener waters the plants every morning.</td>\n",
       "      <td>Active</td>\n",
       "    </tr>\n",
       "    <tr>\n",
       "      <th>3</th>\n",
       "      <td>4</td>\n",
       "      <td>The kids play soccer in the park.</td>\n",
       "      <td>Active</td>\n",
       "    </tr>\n",
       "    <tr>\n",
       "      <th>4</th>\n",
       "      <td>5</td>\n",
       "      <td>The author wrote a thrilling novel.</td>\n",
       "      <td>Active</td>\n",
       "    </tr>\n",
       "    <tr>\n",
       "      <th>5</th>\n",
       "      <td>6</td>\n",
       "      <td>The scientist conducts experiments in the lab.</td>\n",
       "      <td>Active</td>\n",
       "    </tr>\n",
       "    <tr>\n",
       "      <th>6</th>\n",
       "      <td>7</td>\n",
       "      <td>The company launched a new product.</td>\n",
       "      <td>Active</td>\n",
       "    </tr>\n",
       "    <tr>\n",
       "      <th>7</th>\n",
       "      <td>8</td>\n",
       "      <td>The artist paints a beautiful portrait.</td>\n",
       "      <td>Active</td>\n",
       "    </tr>\n",
       "    <tr>\n",
       "      <th>8</th>\n",
       "      <td>9</td>\n",
       "      <td>The musician composes a melody.</td>\n",
       "      <td>Active</td>\n",
       "    </tr>\n",
       "    <tr>\n",
       "      <th>9</th>\n",
       "      <td>10</td>\n",
       "      <td>The photographer takes stunning pictures.</td>\n",
       "      <td>Active</td>\n",
       "    </tr>\n",
       "    <tr>\n",
       "      <th>10</th>\n",
       "      <td>11</td>\n",
       "      <td>The director shoots the film in various locati...</td>\n",
       "      <td>Active</td>\n",
       "    </tr>\n",
       "    <tr>\n",
       "      <th>11</th>\n",
       "      <td>12</td>\n",
       "      <td>The journalist reports the news accurately.</td>\n",
       "      <td>Active</td>\n",
       "    </tr>\n",
       "    <tr>\n",
       "      <th>12</th>\n",
       "      <td>13</td>\n",
       "      <td>The designer creates a modern dress.</td>\n",
       "      <td>Active</td>\n",
       "    </tr>\n",
       "    <tr>\n",
       "      <th>13</th>\n",
       "      <td>14</td>\n",
       "      <td>The engineer designs a new bridge.</td>\n",
       "      <td>Active</td>\n",
       "    </tr>\n",
       "    <tr>\n",
       "      <th>14</th>\n",
       "      <td>15</td>\n",
       "      <td>The programmer codes the application.</td>\n",
       "      <td>Active</td>\n",
       "    </tr>\n",
       "    <tr>\n",
       "      <th>15</th>\n",
       "      <td>16</td>\n",
       "      <td>The architect draws the plans for the house.</td>\n",
       "      <td>Active</td>\n",
       "    </tr>\n",
       "    <tr>\n",
       "      <th>16</th>\n",
       "      <td>17</td>\n",
       "      <td>The manager organizes the work schedule.</td>\n",
       "      <td>Active</td>\n",
       "    </tr>\n",
       "    <tr>\n",
       "      <th>17</th>\n",
       "      <td>18</td>\n",
       "      <td>The waiter serves the customers efficiently.</td>\n",
       "      <td>Active</td>\n",
       "    </tr>\n",
       "    <tr>\n",
       "      <th>18</th>\n",
       "      <td>19</td>\n",
       "      <td>The driver transports the goods safely.</td>\n",
       "      <td>Active</td>\n",
       "    </tr>\n",
       "    <tr>\n",
       "      <th>19</th>\n",
       "      <td>20</td>\n",
       "      <td>The student submits the assignment on time.</td>\n",
       "      <td>Active</td>\n",
       "    </tr>\n",
       "    <tr>\n",
       "      <th>20</th>\n",
       "      <td>21</td>\n",
       "      <td>The meal is prepared by the chef.</td>\n",
       "      <td>Passive</td>\n",
       "    </tr>\n",
       "    <tr>\n",
       "      <th>21</th>\n",
       "      <td>22</td>\n",
       "      <td>The lesson is clearly explained by the teacher.</td>\n",
       "      <td>Passive</td>\n",
       "    </tr>\n",
       "    <tr>\n",
       "      <th>22</th>\n",
       "      <td>23</td>\n",
       "      <td>The plants are watered every morning by the ga...</td>\n",
       "      <td>Passive</td>\n",
       "    </tr>\n",
       "    <tr>\n",
       "      <th>23</th>\n",
       "      <td>24</td>\n",
       "      <td>Soccer is played in the park by the kids.</td>\n",
       "      <td>Passive</td>\n",
       "    </tr>\n",
       "    <tr>\n",
       "      <th>24</th>\n",
       "      <td>25</td>\n",
       "      <td>A thrilling novel was written by the author.</td>\n",
       "      <td>Passive</td>\n",
       "    </tr>\n",
       "    <tr>\n",
       "      <th>25</th>\n",
       "      <td>26</td>\n",
       "      <td>Experiments are conducted in the lab by the sc...</td>\n",
       "      <td>Passive</td>\n",
       "    </tr>\n",
       "    <tr>\n",
       "      <th>26</th>\n",
       "      <td>27</td>\n",
       "      <td>A new product was launched by the company.</td>\n",
       "      <td>Passive</td>\n",
       "    </tr>\n",
       "    <tr>\n",
       "      <th>27</th>\n",
       "      <td>28</td>\n",
       "      <td>A beautiful portrait is painted by the artist.</td>\n",
       "      <td>Passive</td>\n",
       "    </tr>\n",
       "    <tr>\n",
       "      <th>28</th>\n",
       "      <td>29</td>\n",
       "      <td>A melody is composed by the musician.</td>\n",
       "      <td>Passive</td>\n",
       "    </tr>\n",
       "    <tr>\n",
       "      <th>29</th>\n",
       "      <td>30</td>\n",
       "      <td>Stunning pictures are taken by the photographer.</td>\n",
       "      <td>Passive</td>\n",
       "    </tr>\n",
       "    <tr>\n",
       "      <th>30</th>\n",
       "      <td>31</td>\n",
       "      <td>The film is shot in various locations by the d...</td>\n",
       "      <td>Passive</td>\n",
       "    </tr>\n",
       "    <tr>\n",
       "      <th>31</th>\n",
       "      <td>32</td>\n",
       "      <td>The news is accurately reported by the journal...</td>\n",
       "      <td>Passive</td>\n",
       "    </tr>\n",
       "    <tr>\n",
       "      <th>32</th>\n",
       "      <td>33</td>\n",
       "      <td>A modern dress is created by the designer.</td>\n",
       "      <td>Passive</td>\n",
       "    </tr>\n",
       "    <tr>\n",
       "      <th>33</th>\n",
       "      <td>34</td>\n",
       "      <td>A new bridge is designed by the engineer.</td>\n",
       "      <td>Passive</td>\n",
       "    </tr>\n",
       "    <tr>\n",
       "      <th>34</th>\n",
       "      <td>35</td>\n",
       "      <td>The application is coded by the programmer.</td>\n",
       "      <td>Passive</td>\n",
       "    </tr>\n",
       "    <tr>\n",
       "      <th>35</th>\n",
       "      <td>36</td>\n",
       "      <td>The plans for the house are drawn by the archi...</td>\n",
       "      <td>Passive</td>\n",
       "    </tr>\n",
       "    <tr>\n",
       "      <th>36</th>\n",
       "      <td>37</td>\n",
       "      <td>The work schedule is organized by the manager.</td>\n",
       "      <td>Passive</td>\n",
       "    </tr>\n",
       "    <tr>\n",
       "      <th>37</th>\n",
       "      <td>38</td>\n",
       "      <td>The customers are served efficiently by the wa...</td>\n",
       "      <td>Passive</td>\n",
       "    </tr>\n",
       "    <tr>\n",
       "      <th>38</th>\n",
       "      <td>39</td>\n",
       "      <td>The goods are transported safely by the driver.</td>\n",
       "      <td>Passive</td>\n",
       "    </tr>\n",
       "    <tr>\n",
       "      <th>39</th>\n",
       "      <td>40</td>\n",
       "      <td>The assignment is submitted on time by the stu...</td>\n",
       "      <td>Passive</td>\n",
       "    </tr>\n",
       "  </tbody>\n",
       "</table>\n",
       "</div>"
      ],
      "text/plain": [
       "    id                                           sentence    voice\n",
       "0    1                        The chef prepares the meal.   Active\n",
       "1    2           The teacher explains the lesson clearly.   Active\n",
       "2    3      The gardener waters the plants every morning.   Active\n",
       "3    4                  The kids play soccer in the park.   Active\n",
       "4    5                The author wrote a thrilling novel.   Active\n",
       "5    6     The scientist conducts experiments in the lab.   Active\n",
       "6    7                The company launched a new product.   Active\n",
       "7    8            The artist paints a beautiful portrait.   Active\n",
       "8    9                    The musician composes a melody.   Active\n",
       "9   10          The photographer takes stunning pictures.   Active\n",
       "10  11  The director shoots the film in various locati...   Active\n",
       "11  12        The journalist reports the news accurately.   Active\n",
       "12  13               The designer creates a modern dress.   Active\n",
       "13  14                 The engineer designs a new bridge.   Active\n",
       "14  15              The programmer codes the application.   Active\n",
       "15  16       The architect draws the plans for the house.   Active\n",
       "16  17           The manager organizes the work schedule.   Active\n",
       "17  18       The waiter serves the customers efficiently.   Active\n",
       "18  19            The driver transports the goods safely.   Active\n",
       "19  20        The student submits the assignment on time.   Active\n",
       "20  21                  The meal is prepared by the chef.  Passive\n",
       "21  22    The lesson is clearly explained by the teacher.  Passive\n",
       "22  23  The plants are watered every morning by the ga...  Passive\n",
       "23  24          Soccer is played in the park by the kids.  Passive\n",
       "24  25       A thrilling novel was written by the author.  Passive\n",
       "25  26  Experiments are conducted in the lab by the sc...  Passive\n",
       "26  27         A new product was launched by the company.  Passive\n",
       "27  28     A beautiful portrait is painted by the artist.  Passive\n",
       "28  29              A melody is composed by the musician.  Passive\n",
       "29  30   Stunning pictures are taken by the photographer.  Passive\n",
       "30  31  The film is shot in various locations by the d...  Passive\n",
       "31  32  The news is accurately reported by the journal...  Passive\n",
       "32  33         A modern dress is created by the designer.  Passive\n",
       "33  34          A new bridge is designed by the engineer.  Passive\n",
       "34  35        The application is coded by the programmer.  Passive\n",
       "35  36  The plans for the house are drawn by the archi...  Passive\n",
       "36  37     The work schedule is organized by the manager.  Passive\n",
       "37  38  The customers are served efficiently by the wa...  Passive\n",
       "38  39    The goods are transported safely by the driver.  Passive\n",
       "39  40  The assignment is submitted on time by the stu...  Passive"
      ]
     },
     "execution_count": 3,
     "metadata": {},
     "output_type": "execute_result"
    }
   ],
   "source": [
    "df"
   ]
  },
  {
   "cell_type": "markdown",
   "id": "50e84290-88ba-4a15-bcd7-6571042da498",
   "metadata": {},
   "source": [
    "# 2. Preprocessing the Dataset¶"
   ]
  },
  {
   "cell_type": "code",
   "execution_count": 4,
   "id": "39db765b-515e-4098-b3f9-c75db711532b",
   "metadata": {},
   "outputs": [],
   "source": [
    "import spacy"
   ]
  },
  {
   "cell_type": "code",
   "execution_count": 5,
   "id": "677a7de6-92bc-4028-8891-707f42b25276",
   "metadata": {},
   "outputs": [],
   "source": [
    "nlp = spacy.load(\"en_core_web_sm\")"
   ]
  },
  {
   "cell_type": "markdown",
   "id": "85df980b-3bfd-4869-8cbd-dfe23d947bc2",
   "metadata": {},
   "source": [
    " #### spacy.load(\"en_core_web_sm\") is used to load a pre-trained English language model in spacy,providing access to a range of NLP functionalities for text processing and analysis."
   ]
  },
  {
   "cell_type": "markdown",
   "id": "71fef690-131f-47da-a31e-ffcce997e79d",
   "metadata": {},
   "source": [
    "#### The code initializes spaCy (nlp) for text preprocessing"
   ]
  },
  {
   "cell_type": "markdown",
   "id": "0f6c7a1e-ca2b-4771-a29c-52b68b551c8e",
   "metadata": {},
   "source": [
    " * ##### Splitting text into words, punctuation marks, etc.\n",
    " * ##### Assigning word types to tokens, like verb, noun, adjective, etc.\n",
    " * ##### Reducing words to their base or root form.\n",
    "   "
   ]
  },
  {
   "cell_type": "code",
   "execution_count": 6,
   "id": "0b7bb30f-986f-4b3b-bb3d-75dab55dee7e",
   "metadata": {},
   "outputs": [],
   "source": [
    "def preprocess_text(text):\n",
    "    doc = nlp(text)\n",
    "    tokens = [token.lemma_ for token in doc if not token.is_punct and not token.is_space]\n",
    "    return \" \".join(tokens)"
   ]
  },
  {
   "cell_type": "code",
   "execution_count": 7,
   "id": "039472b0-882a-41da-abaf-5eb279b7b9cb",
   "metadata": {},
   "outputs": [],
   "source": [
    "df['clean_sentence'] = df['sentence'].apply(preprocess_text)"
   ]
  },
  {
   "cell_type": "markdown",
   "id": "192720e2-d30c-4a4c-ae1e-ee8b8f2d3d52",
   "metadata": {},
   "source": [
    "* #### This function takes a raw sentence (text) as input, processes it using spaCy (en_core_web_sm model), performs lemmatization (token.lemma_), and returns the cleaned and lemmatized text."
   ]
  },
  {
   "cell_type": "code",
   "execution_count": 8,
   "id": "67caf24c-7cac-4830-9c97-d49005587373",
   "metadata": {},
   "outputs": [],
   "source": [
    "X = df['clean_sentence']\n",
    "y = df['voice'].map({'Active': 0, 'Passive': 1})"
   ]
  },
  {
   "cell_type": "markdown",
   "id": "36484b8f-cfd4-43ec-ae2a-50b7987639a9",
   "metadata": {},
   "source": [
    "* ##### First line selects a column named 'clean_sentence' from a DataFrame df and assigns it to X.  X represents the features that will be used to train a machine learning model.\n",
    "* ##### In second line, column from the DataFrame df, named 'voice', is being processed. y represents the target variable or labels that the model will try to predict.\n",
    "* ##### The .map() function is used to convert these categories into numerical form, where 'Active' is mapped to 0 and 'Passive' is mapped to 1."
   ]
  },
  {
   "cell_type": "markdown",
   "id": "5dcddc3d-5a4e-4916-a6bf-fa63b4c0dc1f",
   "metadata": {},
   "source": [
    "# 3. Train-Test Split"
   ]
  },
  {
   "cell_type": "code",
   "execution_count": 9,
   "id": "1de5122e-e498-4f05-b766-f6864673f01b",
   "metadata": {},
   "outputs": [],
   "source": [
    "from sklearn.model_selection import train_test_split"
   ]
  },
  {
   "cell_type": "code",
   "execution_count": 10,
   "id": "cec48a50-c577-495f-beff-977fd7832fd3",
   "metadata": {},
   "outputs": [],
   "source": [
    "X_train, X_temp,y_train,y_temp = train_test_split(X,y, test_size=0.4, random_state=42)\n",
    "X_val, X_test,y_val,y_test = train_test_split(X_temp,y_temp, test_size=0.5, random_state=42)"
   ]
  },
  {
   "cell_type": "markdown",
   "id": "2c40d708-430f-4553-ad24-500813c416e6",
   "metadata": {},
   "source": [
    "#### First Split (train_test_split with train_size=0.6):\n",
    "##### The initial split (X_train, X_temp) divides the original DataFrame (df) into two subsets:\n",
    "* ##### X_train contains 60% of the data (for training).\n",
    "* ##### X_temp contains 40% of the data (combined validation and test sets).\n",
    "\n",
    "#### Second Split (train_test_split on temp_df with train_size=0.5):\n",
    "##### The second split (val_df, test_df) further divides temp_df into two independent subsets:\n",
    "* ##### val_df contains 20% of the original data (for validation).\n",
    "* ##### test_df also contains 20% of the original data (for testing)."
   ]
  },
  {
   "cell_type": "code",
   "execution_count": 11,
   "id": "fd7fa61d-bef5-4f8b-86b5-448e6f7208ae",
   "metadata": {},
   "outputs": [
    {
     "name": "stdout",
     "output_type": "stream",
     "text": [
      "Training set size: 24\n",
      "Validation set size: 8\n",
      "Test set size: 8\n"
     ]
    }
   ],
   "source": [
    "print(f\"Training set size: {len(X_train)}\")\n",
    "print(f\"Validation set size: {len(X_val)}\")\n",
    "print(f\"Test set size: {len(X_test)}\")"
   ]
  },
  {
   "cell_type": "markdown",
   "id": "a47ee6d5-2673-480e-a1fa-ebac4356e124",
   "metadata": {},
   "source": [
    "* #### Verified the output to confirm that the sizes of the datasets (train_df, val_df, test_df) match the desired proportions specified during the splitting process.\n",
    "* #### The dataset is splitted into Training (60%), Validation (20%), and Test (20%) sets."
   ]
  },
  {
   "cell_type": "markdown",
   "id": "0aa9ef98-7797-49ed-82aa-76e118d95b78",
   "metadata": {},
   "source": [
    "# 4. Initialize CountVectorizer and transform training and test data"
   ]
  },
  {
   "cell_type": "code",
   "execution_count": 12,
   "id": "bd3d2148-1a2f-4fea-a39f-5b34ca9ffd31",
   "metadata": {},
   "outputs": [],
   "source": [
    "from sklearn.feature_extraction.text import CountVectorizer"
   ]
  },
  {
   "cell_type": "code",
   "execution_count": 13,
   "id": "6ec5deaa-672b-4719-8606-a2e5075df3d1",
   "metadata": {},
   "outputs": [],
   "source": [
    "vectorizer = CountVectorizer()\n",
    "X_train_vec = vectorizer.fit_transform(X_train)\n",
    "X_test_vec = vectorizer.transform(X_test)"
   ]
  },
  {
   "cell_type": "markdown",
   "id": "f422779b-00cf-4593-a193-761317d9f63a",
   "metadata": {},
   "source": [
    "#### The CountVectorizer is used to convert the text data into document-term matrices (X_train_vec and X_test_vec).\n",
    "##### After vectorization (fit_transform on X_train and transform on X_test), X_train_vec and X_test_vec will be sparse matrices representing the document-term matrices for training and test data, respectively. space."
   ]
  },
  {
   "cell_type": "markdown",
   "id": "db43ca13-61cd-4037-b90b-3d7248261bfa",
   "metadata": {},
   "source": [
    "#### Fit and Transform on Training Data (X_train): \n",
    "* ##### vectorizer.fit_transform(X_train) fits the vectorizer on the training data (X_train) and transforms it into a document-term matrix (X_train_vec). During the fitting process (fit_transform), the vocabulary of unique words (or tokens) is learned from the training data (X_train).\n",
    "#### Transform Test Data (X_test):\n",
    "* ##### vectorizer.transform(X_test) transforms the test data (X_test) using the vocabulary learned from the training data (X_train). This ensures that the test data (X_test) is represented using the same vocabulary (features) obtained from the training data (X_train), preserving consistency in the feature space."
   ]
  },
  {
   "cell_type": "markdown",
   "id": "7218d3f4-aec2-4995-b2b8-af420ab8cd92",
   "metadata": {},
   "source": [
    "# 5. Using Logistic Regression Model (classifier) for binary classification."
   ]
  },
  {
   "cell_type": "code",
   "execution_count": 14,
   "id": "64f6fcff-7bcd-4bc3-ad0c-b315c2f26688",
   "metadata": {},
   "outputs": [],
   "source": [
    "from sklearn.linear_model import LogisticRegression"
   ]
  },
  {
   "cell_type": "code",
   "execution_count": 15,
   "id": "63efe0b1-705a-4d47-9f33-1998b2abea26",
   "metadata": {},
   "outputs": [],
   "source": [
    "classifier = LogisticRegression()"
   ]
  },
  {
   "cell_type": "markdown",
   "id": "134e5fbb-0e73-41f2-bd7b-6f45c3e8ebf3",
   "metadata": {},
   "source": [
    "* #### This initializes a logistic regression classifier named classifier. The LogisticRegression class is used for binary and multiclass classification problems.\r\n"
   ]
  },
  {
   "cell_type": "code",
   "execution_count": 16,
   "id": "f715a840-4e2d-4f59-a391-bab65e6f2a11",
   "metadata": {},
   "outputs": [
    {
     "data": {
      "text/html": [
       "<style>#sk-container-id-1 {\n",
       "  /* Definition of color scheme common for light and dark mode */\n",
       "  --sklearn-color-text: black;\n",
       "  --sklearn-color-line: gray;\n",
       "  /* Definition of color scheme for unfitted estimators */\n",
       "  --sklearn-color-unfitted-level-0: #fff5e6;\n",
       "  --sklearn-color-unfitted-level-1: #f6e4d2;\n",
       "  --sklearn-color-unfitted-level-2: #ffe0b3;\n",
       "  --sklearn-color-unfitted-level-3: chocolate;\n",
       "  /* Definition of color scheme for fitted estimators */\n",
       "  --sklearn-color-fitted-level-0: #f0f8ff;\n",
       "  --sklearn-color-fitted-level-1: #d4ebff;\n",
       "  --sklearn-color-fitted-level-2: #b3dbfd;\n",
       "  --sklearn-color-fitted-level-3: cornflowerblue;\n",
       "\n",
       "  /* Specific color for light theme */\n",
       "  --sklearn-color-text-on-default-background: var(--sg-text-color, var(--theme-code-foreground, var(--jp-content-font-color1, black)));\n",
       "  --sklearn-color-background: var(--sg-background-color, var(--theme-background, var(--jp-layout-color0, white)));\n",
       "  --sklearn-color-border-box: var(--sg-text-color, var(--theme-code-foreground, var(--jp-content-font-color1, black)));\n",
       "  --sklearn-color-icon: #696969;\n",
       "\n",
       "  @media (prefers-color-scheme: dark) {\n",
       "    /* Redefinition of color scheme for dark theme */\n",
       "    --sklearn-color-text-on-default-background: var(--sg-text-color, var(--theme-code-foreground, var(--jp-content-font-color1, white)));\n",
       "    --sklearn-color-background: var(--sg-background-color, var(--theme-background, var(--jp-layout-color0, #111)));\n",
       "    --sklearn-color-border-box: var(--sg-text-color, var(--theme-code-foreground, var(--jp-content-font-color1, white)));\n",
       "    --sklearn-color-icon: #878787;\n",
       "  }\n",
       "}\n",
       "\n",
       "#sk-container-id-1 {\n",
       "  color: var(--sklearn-color-text);\n",
       "}\n",
       "\n",
       "#sk-container-id-1 pre {\n",
       "  padding: 0;\n",
       "}\n",
       "\n",
       "#sk-container-id-1 input.sk-hidden--visually {\n",
       "  border: 0;\n",
       "  clip: rect(1px 1px 1px 1px);\n",
       "  clip: rect(1px, 1px, 1px, 1px);\n",
       "  height: 1px;\n",
       "  margin: -1px;\n",
       "  overflow: hidden;\n",
       "  padding: 0;\n",
       "  position: absolute;\n",
       "  width: 1px;\n",
       "}\n",
       "\n",
       "#sk-container-id-1 div.sk-dashed-wrapped {\n",
       "  border: 1px dashed var(--sklearn-color-line);\n",
       "  margin: 0 0.4em 0.5em 0.4em;\n",
       "  box-sizing: border-box;\n",
       "  padding-bottom: 0.4em;\n",
       "  background-color: var(--sklearn-color-background);\n",
       "}\n",
       "\n",
       "#sk-container-id-1 div.sk-container {\n",
       "  /* jupyter's `normalize.less` sets `[hidden] { display: none; }`\n",
       "     but bootstrap.min.css set `[hidden] { display: none !important; }`\n",
       "     so we also need the `!important` here to be able to override the\n",
       "     default hidden behavior on the sphinx rendered scikit-learn.org.\n",
       "     See: https://github.com/scikit-learn/scikit-learn/issues/21755 */\n",
       "  display: inline-block !important;\n",
       "  position: relative;\n",
       "}\n",
       "\n",
       "#sk-container-id-1 div.sk-text-repr-fallback {\n",
       "  display: none;\n",
       "}\n",
       "\n",
       "div.sk-parallel-item,\n",
       "div.sk-serial,\n",
       "div.sk-item {\n",
       "  /* draw centered vertical line to link estimators */\n",
       "  background-image: linear-gradient(var(--sklearn-color-text-on-default-background), var(--sklearn-color-text-on-default-background));\n",
       "  background-size: 2px 100%;\n",
       "  background-repeat: no-repeat;\n",
       "  background-position: center center;\n",
       "}\n",
       "\n",
       "/* Parallel-specific style estimator block */\n",
       "\n",
       "#sk-container-id-1 div.sk-parallel-item::after {\n",
       "  content: \"\";\n",
       "  width: 100%;\n",
       "  border-bottom: 2px solid var(--sklearn-color-text-on-default-background);\n",
       "  flex-grow: 1;\n",
       "}\n",
       "\n",
       "#sk-container-id-1 div.sk-parallel {\n",
       "  display: flex;\n",
       "  align-items: stretch;\n",
       "  justify-content: center;\n",
       "  background-color: var(--sklearn-color-background);\n",
       "  position: relative;\n",
       "}\n",
       "\n",
       "#sk-container-id-1 div.sk-parallel-item {\n",
       "  display: flex;\n",
       "  flex-direction: column;\n",
       "}\n",
       "\n",
       "#sk-container-id-1 div.sk-parallel-item:first-child::after {\n",
       "  align-self: flex-end;\n",
       "  width: 50%;\n",
       "}\n",
       "\n",
       "#sk-container-id-1 div.sk-parallel-item:last-child::after {\n",
       "  align-self: flex-start;\n",
       "  width: 50%;\n",
       "}\n",
       "\n",
       "#sk-container-id-1 div.sk-parallel-item:only-child::after {\n",
       "  width: 0;\n",
       "}\n",
       "\n",
       "/* Serial-specific style estimator block */\n",
       "\n",
       "#sk-container-id-1 div.sk-serial {\n",
       "  display: flex;\n",
       "  flex-direction: column;\n",
       "  align-items: center;\n",
       "  background-color: var(--sklearn-color-background);\n",
       "  padding-right: 1em;\n",
       "  padding-left: 1em;\n",
       "}\n",
       "\n",
       "\n",
       "/* Toggleable style: style used for estimator/Pipeline/ColumnTransformer box that is\n",
       "clickable and can be expanded/collapsed.\n",
       "- Pipeline and ColumnTransformer use this feature and define the default style\n",
       "- Estimators will overwrite some part of the style using the `sk-estimator` class\n",
       "*/\n",
       "\n",
       "/* Pipeline and ColumnTransformer style (default) */\n",
       "\n",
       "#sk-container-id-1 div.sk-toggleable {\n",
       "  /* Default theme specific background. It is overwritten whether we have a\n",
       "  specific estimator or a Pipeline/ColumnTransformer */\n",
       "  background-color: var(--sklearn-color-background);\n",
       "}\n",
       "\n",
       "/* Toggleable label */\n",
       "#sk-container-id-1 label.sk-toggleable__label {\n",
       "  cursor: pointer;\n",
       "  display: block;\n",
       "  width: 100%;\n",
       "  margin-bottom: 0;\n",
       "  padding: 0.5em;\n",
       "  box-sizing: border-box;\n",
       "  text-align: center;\n",
       "}\n",
       "\n",
       "#sk-container-id-1 label.sk-toggleable__label-arrow:before {\n",
       "  /* Arrow on the left of the label */\n",
       "  content: \"▸\";\n",
       "  float: left;\n",
       "  margin-right: 0.25em;\n",
       "  color: var(--sklearn-color-icon);\n",
       "}\n",
       "\n",
       "#sk-container-id-1 label.sk-toggleable__label-arrow:hover:before {\n",
       "  color: var(--sklearn-color-text);\n",
       "}\n",
       "\n",
       "/* Toggleable content - dropdown */\n",
       "\n",
       "#sk-container-id-1 div.sk-toggleable__content {\n",
       "  max-height: 0;\n",
       "  max-width: 0;\n",
       "  overflow: hidden;\n",
       "  text-align: left;\n",
       "  /* unfitted */\n",
       "  background-color: var(--sklearn-color-unfitted-level-0);\n",
       "}\n",
       "\n",
       "#sk-container-id-1 div.sk-toggleable__content.fitted {\n",
       "  /* fitted */\n",
       "  background-color: var(--sklearn-color-fitted-level-0);\n",
       "}\n",
       "\n",
       "#sk-container-id-1 div.sk-toggleable__content pre {\n",
       "  margin: 0.2em;\n",
       "  border-radius: 0.25em;\n",
       "  color: var(--sklearn-color-text);\n",
       "  /* unfitted */\n",
       "  background-color: var(--sklearn-color-unfitted-level-0);\n",
       "}\n",
       "\n",
       "#sk-container-id-1 div.sk-toggleable__content.fitted pre {\n",
       "  /* unfitted */\n",
       "  background-color: var(--sklearn-color-fitted-level-0);\n",
       "}\n",
       "\n",
       "#sk-container-id-1 input.sk-toggleable__control:checked~div.sk-toggleable__content {\n",
       "  /* Expand drop-down */\n",
       "  max-height: 200px;\n",
       "  max-width: 100%;\n",
       "  overflow: auto;\n",
       "}\n",
       "\n",
       "#sk-container-id-1 input.sk-toggleable__control:checked~label.sk-toggleable__label-arrow:before {\n",
       "  content: \"▾\";\n",
       "}\n",
       "\n",
       "/* Pipeline/ColumnTransformer-specific style */\n",
       "\n",
       "#sk-container-id-1 div.sk-label input.sk-toggleable__control:checked~label.sk-toggleable__label {\n",
       "  color: var(--sklearn-color-text);\n",
       "  background-color: var(--sklearn-color-unfitted-level-2);\n",
       "}\n",
       "\n",
       "#sk-container-id-1 div.sk-label.fitted input.sk-toggleable__control:checked~label.sk-toggleable__label {\n",
       "  background-color: var(--sklearn-color-fitted-level-2);\n",
       "}\n",
       "\n",
       "/* Estimator-specific style */\n",
       "\n",
       "/* Colorize estimator box */\n",
       "#sk-container-id-1 div.sk-estimator input.sk-toggleable__control:checked~label.sk-toggleable__label {\n",
       "  /* unfitted */\n",
       "  background-color: var(--sklearn-color-unfitted-level-2);\n",
       "}\n",
       "\n",
       "#sk-container-id-1 div.sk-estimator.fitted input.sk-toggleable__control:checked~label.sk-toggleable__label {\n",
       "  /* fitted */\n",
       "  background-color: var(--sklearn-color-fitted-level-2);\n",
       "}\n",
       "\n",
       "#sk-container-id-1 div.sk-label label.sk-toggleable__label,\n",
       "#sk-container-id-1 div.sk-label label {\n",
       "  /* The background is the default theme color */\n",
       "  color: var(--sklearn-color-text-on-default-background);\n",
       "}\n",
       "\n",
       "/* On hover, darken the color of the background */\n",
       "#sk-container-id-1 div.sk-label:hover label.sk-toggleable__label {\n",
       "  color: var(--sklearn-color-text);\n",
       "  background-color: var(--sklearn-color-unfitted-level-2);\n",
       "}\n",
       "\n",
       "/* Label box, darken color on hover, fitted */\n",
       "#sk-container-id-1 div.sk-label.fitted:hover label.sk-toggleable__label.fitted {\n",
       "  color: var(--sklearn-color-text);\n",
       "  background-color: var(--sklearn-color-fitted-level-2);\n",
       "}\n",
       "\n",
       "/* Estimator label */\n",
       "\n",
       "#sk-container-id-1 div.sk-label label {\n",
       "  font-family: monospace;\n",
       "  font-weight: bold;\n",
       "  display: inline-block;\n",
       "  line-height: 1.2em;\n",
       "}\n",
       "\n",
       "#sk-container-id-1 div.sk-label-container {\n",
       "  text-align: center;\n",
       "}\n",
       "\n",
       "/* Estimator-specific */\n",
       "#sk-container-id-1 div.sk-estimator {\n",
       "  font-family: monospace;\n",
       "  border: 1px dotted var(--sklearn-color-border-box);\n",
       "  border-radius: 0.25em;\n",
       "  box-sizing: border-box;\n",
       "  margin-bottom: 0.5em;\n",
       "  /* unfitted */\n",
       "  background-color: var(--sklearn-color-unfitted-level-0);\n",
       "}\n",
       "\n",
       "#sk-container-id-1 div.sk-estimator.fitted {\n",
       "  /* fitted */\n",
       "  background-color: var(--sklearn-color-fitted-level-0);\n",
       "}\n",
       "\n",
       "/* on hover */\n",
       "#sk-container-id-1 div.sk-estimator:hover {\n",
       "  /* unfitted */\n",
       "  background-color: var(--sklearn-color-unfitted-level-2);\n",
       "}\n",
       "\n",
       "#sk-container-id-1 div.sk-estimator.fitted:hover {\n",
       "  /* fitted */\n",
       "  background-color: var(--sklearn-color-fitted-level-2);\n",
       "}\n",
       "\n",
       "/* Specification for estimator info (e.g. \"i\" and \"?\") */\n",
       "\n",
       "/* Common style for \"i\" and \"?\" */\n",
       "\n",
       ".sk-estimator-doc-link,\n",
       "a:link.sk-estimator-doc-link,\n",
       "a:visited.sk-estimator-doc-link {\n",
       "  float: right;\n",
       "  font-size: smaller;\n",
       "  line-height: 1em;\n",
       "  font-family: monospace;\n",
       "  background-color: var(--sklearn-color-background);\n",
       "  border-radius: 1em;\n",
       "  height: 1em;\n",
       "  width: 1em;\n",
       "  text-decoration: none !important;\n",
       "  margin-left: 1ex;\n",
       "  /* unfitted */\n",
       "  border: var(--sklearn-color-unfitted-level-1) 1pt solid;\n",
       "  color: var(--sklearn-color-unfitted-level-1);\n",
       "}\n",
       "\n",
       ".sk-estimator-doc-link.fitted,\n",
       "a:link.sk-estimator-doc-link.fitted,\n",
       "a:visited.sk-estimator-doc-link.fitted {\n",
       "  /* fitted */\n",
       "  border: var(--sklearn-color-fitted-level-1) 1pt solid;\n",
       "  color: var(--sklearn-color-fitted-level-1);\n",
       "}\n",
       "\n",
       "/* On hover */\n",
       "div.sk-estimator:hover .sk-estimator-doc-link:hover,\n",
       ".sk-estimator-doc-link:hover,\n",
       "div.sk-label-container:hover .sk-estimator-doc-link:hover,\n",
       ".sk-estimator-doc-link:hover {\n",
       "  /* unfitted */\n",
       "  background-color: var(--sklearn-color-unfitted-level-3);\n",
       "  color: var(--sklearn-color-background);\n",
       "  text-decoration: none;\n",
       "}\n",
       "\n",
       "div.sk-estimator.fitted:hover .sk-estimator-doc-link.fitted:hover,\n",
       ".sk-estimator-doc-link.fitted:hover,\n",
       "div.sk-label-container:hover .sk-estimator-doc-link.fitted:hover,\n",
       ".sk-estimator-doc-link.fitted:hover {\n",
       "  /* fitted */\n",
       "  background-color: var(--sklearn-color-fitted-level-3);\n",
       "  color: var(--sklearn-color-background);\n",
       "  text-decoration: none;\n",
       "}\n",
       "\n",
       "/* Span, style for the box shown on hovering the info icon */\n",
       ".sk-estimator-doc-link span {\n",
       "  display: none;\n",
       "  z-index: 9999;\n",
       "  position: relative;\n",
       "  font-weight: normal;\n",
       "  right: .2ex;\n",
       "  padding: .5ex;\n",
       "  margin: .5ex;\n",
       "  width: min-content;\n",
       "  min-width: 20ex;\n",
       "  max-width: 50ex;\n",
       "  color: var(--sklearn-color-text);\n",
       "  box-shadow: 2pt 2pt 4pt #999;\n",
       "  /* unfitted */\n",
       "  background: var(--sklearn-color-unfitted-level-0);\n",
       "  border: .5pt solid var(--sklearn-color-unfitted-level-3);\n",
       "}\n",
       "\n",
       ".sk-estimator-doc-link.fitted span {\n",
       "  /* fitted */\n",
       "  background: var(--sklearn-color-fitted-level-0);\n",
       "  border: var(--sklearn-color-fitted-level-3);\n",
       "}\n",
       "\n",
       ".sk-estimator-doc-link:hover span {\n",
       "  display: block;\n",
       "}\n",
       "\n",
       "/* \"?\"-specific style due to the `<a>` HTML tag */\n",
       "\n",
       "#sk-container-id-1 a.estimator_doc_link {\n",
       "  float: right;\n",
       "  font-size: 1rem;\n",
       "  line-height: 1em;\n",
       "  font-family: monospace;\n",
       "  background-color: var(--sklearn-color-background);\n",
       "  border-radius: 1rem;\n",
       "  height: 1rem;\n",
       "  width: 1rem;\n",
       "  text-decoration: none;\n",
       "  /* unfitted */\n",
       "  color: var(--sklearn-color-unfitted-level-1);\n",
       "  border: var(--sklearn-color-unfitted-level-1) 1pt solid;\n",
       "}\n",
       "\n",
       "#sk-container-id-1 a.estimator_doc_link.fitted {\n",
       "  /* fitted */\n",
       "  border: var(--sklearn-color-fitted-level-1) 1pt solid;\n",
       "  color: var(--sklearn-color-fitted-level-1);\n",
       "}\n",
       "\n",
       "/* On hover */\n",
       "#sk-container-id-1 a.estimator_doc_link:hover {\n",
       "  /* unfitted */\n",
       "  background-color: var(--sklearn-color-unfitted-level-3);\n",
       "  color: var(--sklearn-color-background);\n",
       "  text-decoration: none;\n",
       "}\n",
       "\n",
       "#sk-container-id-1 a.estimator_doc_link.fitted:hover {\n",
       "  /* fitted */\n",
       "  background-color: var(--sklearn-color-fitted-level-3);\n",
       "}\n",
       "</style><div id=\"sk-container-id-1\" class=\"sk-top-container\"><div class=\"sk-text-repr-fallback\"><pre>LogisticRegression()</pre><b>In a Jupyter environment, please rerun this cell to show the HTML representation or trust the notebook. <br />On GitHub, the HTML representation is unable to render, please try loading this page with nbviewer.org.</b></div><div class=\"sk-container\" hidden><div class=\"sk-item\"><div class=\"sk-estimator fitted sk-toggleable\"><input class=\"sk-toggleable__control sk-hidden--visually\" id=\"sk-estimator-id-1\" type=\"checkbox\" checked><label for=\"sk-estimator-id-1\" class=\"sk-toggleable__label fitted sk-toggleable__label-arrow fitted\">&nbsp;&nbsp;LogisticRegression<a class=\"sk-estimator-doc-link fitted\" rel=\"noreferrer\" target=\"_blank\" href=\"https://scikit-learn.org/1.4/modules/generated/sklearn.linear_model.LogisticRegression.html\">?<span>Documentation for LogisticRegression</span></a><span class=\"sk-estimator-doc-link fitted\">i<span>Fitted</span></span></label><div class=\"sk-toggleable__content fitted\"><pre>LogisticRegression()</pre></div> </div></div></div></div>"
      ],
      "text/plain": [
       "LogisticRegression()"
      ]
     },
     "execution_count": 16,
     "metadata": {},
     "output_type": "execute_result"
    }
   ],
   "source": [
    "classifier.fit(X_train_vec, y_train)"
   ]
  },
  {
   "cell_type": "markdown",
   "id": "41221ae7-6d88-48bc-928f-db6a1fbbfbc5",
   "metadata": {},
   "source": [
    "* #### The fit method is used to train the logistic regression classifier on the training data (X_train_vec) with corresponding target labels (y_train), During training, the classifier learns the relationship between the input features (X_train_vec) and the target labels (y_train).\n",
    "* #### The fit method of the classifier (classifier.fit(X_train_vec, y_train)) is a crucial step in supervised learning, where the model learns from the training data to make predictions on unseen data (e.g., test data)."
   ]
  },
  {
   "cell_type": "code",
   "execution_count": 17,
   "id": "c36a863f-9baf-4573-897e-6a9aba21abe7",
   "metadata": {},
   "outputs": [
    {
     "data": {
      "text/plain": [
       "array([0, 0, 0, 1, 1, 0, 1, 0], dtype=int64)"
      ]
     },
     "execution_count": 17,
     "metadata": {},
     "output_type": "execute_result"
    }
   ],
   "source": [
    "y_pred = classifier.predict(X_test_vec)\n",
    "y_pred"
   ]
  },
  {
   "cell_type": "markdown",
   "id": "ee082ea4-8d85-4128-b091-32183965c719",
   "metadata": {},
   "source": [
    "* #### The predict method is used to make predictions on the test data (X_test_vec) using the trained classifier (classifier).\n",
    "* #### The y_pred array contains the predicted labels generated by the classifier for the test data (X_test_vec)."
   ]
  },
  {
   "cell_type": "markdown",
   "id": "48f7cbd4-a410-416e-983d-be0fac12fb61",
   "metadata": {},
   "source": [
    "# 6. Finding Accuracy & Evaluating the performance using Classification Report"
   ]
  },
  {
   "cell_type": "code",
   "execution_count": 18,
   "id": "e8298202-1c50-4b8b-8193-123899e65ad3",
   "metadata": {},
   "outputs": [],
   "source": [
    "from sklearn.metrics import accuracy_score, classification_report"
   ]
  },
  {
   "cell_type": "code",
   "execution_count": 19,
   "id": "60bdf2b9-9705-4ff7-a196-39fc9890cc3e",
   "metadata": {},
   "outputs": [
    {
     "data": {
      "text/plain": [
       "1.0"
      ]
     },
     "execution_count": 19,
     "metadata": {},
     "output_type": "execute_result"
    }
   ],
   "source": [
    "accuracy_score(y_test, y_pred)"
   ]
  },
  {
   "cell_type": "markdown",
   "id": "f9016b3f-4254-4070-ba94-031a11e34563",
   "metadata": {},
   "source": [
    "* #### accuracy_score(y_test, y_pred) calculates the accuracy score by comparing the predicted labels (y_pred) with the true labels (y_test)."
   ]
  },
  {
   "cell_type": "markdown",
   "id": "7fee83cc-9446-42c2-a5fa-30ca3bcffdfd",
   "metadata": {},
   "source": [
    "* #### An accuracy score of 1.0 means all predictions were correct."
   ]
  },
  {
   "cell_type": "code",
   "execution_count": 20,
   "id": "cbb53dcd-4446-4258-b9f7-1301ffa08227",
   "metadata": {},
   "outputs": [
    {
     "name": "stdout",
     "output_type": "stream",
     "text": [
      "              precision    recall  f1-score   support\n",
      "\n",
      "      Active       1.00      1.00      1.00         5\n",
      "     Passive       1.00      1.00      1.00         3\n",
      "\n",
      "    accuracy                           1.00         8\n",
      "   macro avg       1.00      1.00      1.00         8\n",
      "weighted avg       1.00      1.00      1.00         8\n",
      "\n"
     ]
    }
   ],
   "source": [
    "print(classification_report(y_test, y_pred, target_names=['Active', 'Passive']))"
   ]
  },
  {
   "cell_type": "markdown",
   "id": "645448e4-61a4-47e5-8faf-f7dbf0545d65",
   "metadata": {},
   "source": [
    "# 7. Creating A Function to check whether the given sentence is ACTIVE or PASSIVE"
   ]
  },
  {
   "cell_type": "code",
   "execution_count": 21,
   "id": "f123f6a9-afae-45c7-8668-a61c7b06e2f7",
   "metadata": {},
   "outputs": [],
   "source": [
    "def predict_voice(sentence):\n",
    "    cleaned_sentence = preprocess_text(sentence)\n",
    "    sentence_vec = vectorizer.transform([cleaned_sentence])\n",
    "    prediction = classifier.predict(sentence_vec)\n",
    "    if prediction[0] == 0:\n",
    "        return \"Active\"\n",
    "    else:\n",
    "        return \"Passive\""
   ]
  },
  {
   "cell_type": "markdown",
   "id": "e7b383a2-7059-439c-98de-c73247d66863",
   "metadata": {},
   "source": [
    "* #### Defining a function predict_voice that takes a sentence as input, preprocesses it, vectorizes it using vectorizer, and then uses a trained classifier 'classifier' to predict whether the sentence is in \"Active\" or \"Passive\" voice.\n",
    "* #### This function is a way to apply trained model to new, unseen text data."
   ]
  },
  {
   "cell_type": "code",
   "execution_count": 22,
   "id": "4f0d2091-eb5d-4cba-b8a6-427c5c75b4a4",
   "metadata": {},
   "outputs": [
    {
     "name": "stdin",
     "output_type": "stream",
     "text": [
      "Enter the sentence:  The cat chased the mouse\n"
     ]
    },
    {
     "name": "stdout",
     "output_type": "stream",
     "text": [
      "The given sentence is in: Active Voice\n"
     ]
    }
   ],
   "source": [
    "new_sentence = input(\"Enter the sentence: \")\n",
    "predicted_voice = predict_voice(new_sentence)\n",
    "print(f\"The given sentence is in: {predicted_voice} Voice\")"
   ]
  },
  {
   "cell_type": "markdown",
   "id": "8c1f70b2-fabb-440f-b043-4f5de7dd994c",
   "metadata": {},
   "source": [
    "#### User Input (input):\n",
    "* ##### new_sentence = input(\"Enter the sentence: \") prompts the user to enter a sentence interactively. The entered sentence is stored in the new_sentence variable. \n",
    "#### Voice Prediction (predict_voice):\n",
    "* ##### predict_voice(new_sentence) calls the predict_voice function with the user-provided new_sentence.\r",
    "* ##### The function preprocesses, vectorizes, and predicts the voice type (either \"Active\" or \"Passive\") based on the trained model (vectorizer and classifier).\n",
    "#### Display Prediction (print):\n",
    "* ##### print(f\"The given sentence is in: {predicted_voice} Voice\") displays the predicted voice type (\"Active\" or \"Passive\") for the user-provided sentence..sentence."
   ]
  },
  {
   "cell_type": "markdown",
   "id": "af073047-b921-4e55-b2c1-1bab2076ab5c",
   "metadata": {},
   "source": [
    "# A detailed analysis of its strengths"
   ]
  },
  {
   "cell_type": "markdown",
   "id": "4486a837-ef86-4f99-8d4a-9a390e22b89d",
   "metadata": {},
   "source": [
    "#### 1. Accuracy on Validation/Test Data:\n",
    "* The model demonstrates high accuracy (correctly predicts voice type) on unseen validation or test data, it indicates that the model generalizes well and can effectively differentiate between active and passive voice.\n",
    "  "
   ]
  },
  {
   "cell_type": "markdown",
   "id": "388c7913-0516-4f3f-b432-9bc80e75e198",
   "metadata": {},
   "source": [
    "#### 2. Precision and Recall:\n",
    "* High precision suggests that the model makes accurate predictions when it identifies a sentence as either active or passive.\n",
    "* High recall indicates that the model effectively captures all instances of a particular voice type (active or passive), minimizing false negatives."
   ]
  },
  {
   "cell_type": "markdown",
   "id": "16668184-1785-4520-a69e-a24db6df0444",
   "metadata": {},
   "source": [
    "#### 3. Interpretability:\n",
    "* Depending on the model type (ie. logistic regression), interpretability can be a strength, allowing for clear understanding of how features contribute to predictions."
   ]
  },
  {
   "cell_type": "markdown",
   "id": "e25c1e4d-9dc2-4dbc-8c3e-9a1b9db1fdfa",
   "metadata": {},
   "source": [
    "#### 4. Scalability:\n",
    "* Models that are efficient and scalable can handle larger datasets and may be easier to deploy in production."
   ]
  }
 ],
 "metadata": {
  "kernelspec": {
   "display_name": "Python 3 (ipykernel)",
   "language": "python",
   "name": "python3"
  },
  "language_info": {
   "codemirror_mode": {
    "name": "ipython",
    "version": 3
   },
   "file_extension": ".py",
   "mimetype": "text/x-python",
   "name": "python",
   "nbconvert_exporter": "python",
   "pygments_lexer": "ipython3",
   "version": "3.12.2"
  }
 },
 "nbformat": 4,
 "nbformat_minor": 5
}
